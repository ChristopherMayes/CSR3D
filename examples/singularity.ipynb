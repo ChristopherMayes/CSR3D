{
 "cells": [
  {
   "cell_type": "markdown",
   "id": "vulnerable-semester",
   "metadata": {},
   "source": [
    "# Singularity handing, integration\n",
    "\n",
    "The `psi_x` and `psi_y` potential functions have singularities along the x coordinate axis. These are methods to integrate these out.\n"
   ]
  },
  {
   "cell_type": "code",
   "execution_count": 1,
   "id": "sensitive-diana",
   "metadata": {},
   "outputs": [],
   "source": [
    "from numpy import tanh, sinh, cosh, sqrt, pi\n",
    "\n",
    "import numpy as np\n",
    "import scipy.special\n",
    "\n",
    "import matplotlib.pyplot as plt\n",
    "import matplotlib\n",
    "%matplotlib notebook\n",
    "%matplotlib inline\n",
    "%config InlineBackend.figure_format = 'retina'"
   ]
  },
  {
   "cell_type": "markdown",
   "id": "serial-instruction",
   "metadata": {},
   "source": [
    "# Tanh-sinh quadrature\n",
    "\n",
    "This is a method to deal with singularities at integration endpoints.\n",
    "\n",
    "See: \n",
    "\n",
    "https://en.wikipedia.org/wiki/Tanh-sinh_quadrature\n",
    "\n",
    "Tanh-sinh quadrature for single and multiple integration using floating-point arithmetic\n",
    "Joren Vanhercka,b,∗, Bart Sor ́eea,b,c, Wim Magnusa,b\n",
    "https://arxiv.org/pdf/2007.15057.pdf\n",
    "\n"
   ]
  },
  {
   "cell_type": "code",
   "execution_count": 2,
   "id": "measured-vitamin",
   "metadata": {},
   "outputs": [],
   "source": [
    "# Test function over [-1,1]\n",
    "def f(x):\n",
    "    return 1/sqrt(1-x)"
   ]
  },
  {
   "cell_type": "code",
   "execution_count": 3,
   "id": "desperate-destruction",
   "metadata": {},
   "outputs": [
    {
     "name": "stderr",
     "output_type": "stream",
     "text": [
      "<ipython-input-2-0a1838f9092c>:3: RuntimeWarning: divide by zero encountered in double_scalars\n",
      "  return 1/sqrt(1-x)\n"
     ]
    },
    {
     "data": {
      "text/plain": [
       "inf"
      ]
     },
     "execution_count": 3,
     "metadata": {},
     "output_type": "execute_result"
    }
   ],
   "source": [
    "# There is a singularity here\n",
    "f(1)"
   ]
  },
  {
   "cell_type": "code",
   "execution_count": 4,
   "id": "incident-bathroom",
   "metadata": {},
   "outputs": [
    {
     "data": {
      "text/plain": [
       "0.2922067407145424"
      ]
     },
     "execution_count": 4,
     "metadata": {},
     "output_type": "execute_result"
    }
   ],
   "source": [
    "# h\n",
    "\n",
    "n = 10\n",
    "N = 2*n+1\n",
    "\n",
    "# The optimal transformed abscissae spacing \n",
    "# Eq. 17, https://arxiv.org/pdf/2007.15057.pdf\n",
    "h = (2/N)*np.real(scipy.special.lambertw(np.pi*N, k=0, tol=1e-08))\n",
    "h"
   ]
  },
  {
   "cell_type": "code",
   "execution_count": 5,
   "id": "unlikely-wales",
   "metadata": {},
   "outputs": [
    {
     "data": {
      "text/plain": [
       "array([-10,  -9,  -8,  -7,  -6,  -5,  -4,  -3,  -2,  -1,   0,   1,   2,\n",
       "         3,   4,   5,   6,   7,   8,   9,  10])"
      ]
     },
     "execution_count": 5,
     "metadata": {},
     "output_type": "execute_result"
    }
   ],
   "source": [
    "# k to sum over\n",
    "klist = np.arange(-n,n+1, 1)\n",
    "klist"
   ]
  },
  {
   "cell_type": "code",
   "execution_count": 6,
   "id": "seasonal-spelling",
   "metadata": {},
   "outputs": [
    {
     "data": {
      "text/plain": [
       "(array([-1.        , -1.        , -0.9999998 , -0.99998699, -0.99969754,\n",
       "        -0.9967034 , -0.97943682, -0.91546171, -0.74920894, -0.43460257,\n",
       "         0.        ,  0.43460257,  0.74920894,  0.91546171,  0.97943682,\n",
       "         0.9967034 ,  0.99969754,  0.99998699,  0.9999998 ,  1.        ,\n",
       "         1.        ]),\n",
       " array([3.93574552e-12, 4.93400879e-09, 9.60741699e-07, 4.69339661e-05,\n",
       "        8.25408563e-04, 6.86192419e-03, 3.29653124e-02, 1.04759826e-01,\n",
       "        2.36730957e-01, 3.88310035e-01, 4.58997275e-01, 3.88310035e-01,\n",
       "        2.36730957e-01, 1.04759826e-01, 3.29653124e-02, 6.86192419e-03,\n",
       "        8.25408563e-04, 4.69339661e-05, 9.60741699e-07, 4.93400879e-09,\n",
       "        3.93574552e-12]))"
      ]
     },
     "execution_count": 6,
     "metadata": {},
     "output_type": "execute_result"
    }
   ],
   "source": [
    "def xk(k):\n",
    "    return tanh(pi/2*sinh(k*h))\n",
    "\n",
    "def wk(k):\n",
    "    return h*pi/2*cosh(k*h) / cosh(pi/2*sinh(k*h))**2\n",
    "\n",
    "def optimal_xi_wi(n):\n",
    "    klist = np.arange(-n,n+1, 1)\n",
    "    \n",
    "    xi = xk(klist)\n",
    "    wi = wk(klist)\n",
    "    \n",
    "    return xi, wi\n",
    "    \n",
    "# abscissae and weights    \n",
    "xi, wi = optimal_xi_wi(n)    \n",
    "\n",
    "xi, wi"
   ]
  },
  {
   "cell_type": "code",
   "execution_count": 7,
   "id": "fantastic-skating",
   "metadata": {},
   "outputs": [],
   "source": [
    "# Perform the sum\n",
    "\n",
    "#vals = np.nan_to_num(f(xi)*wi, posinf=0, neginf=0)\n",
    "vals = f(xi)*wi\n",
    "sol = np.sum(vals)\n"
   ]
  },
  {
   "cell_type": "code",
   "execution_count": 8,
   "id": "complimentary-abortion",
   "metadata": {},
   "outputs": [
    {
     "data": {
      "text/plain": [
       "2.8284271247461903"
      ]
     },
     "execution_count": 8,
     "metadata": {},
     "output_type": "execute_result"
    }
   ],
   "source": [
    "# Exact answer\n",
    "exact = 2 *sqrt(2)\n",
    "exact"
   ]
  },
  {
   "cell_type": "code",
   "execution_count": 9,
   "id": "banner-minutes",
   "metadata": {},
   "outputs": [
    {
     "data": {
      "text/plain": [
       "-1.924358276581466e-08"
      ]
     },
     "execution_count": 9,
     "metadata": {},
     "output_type": "execute_result"
    }
   ],
   "source": [
    "# Error\n",
    "(sol-exact)/exact"
   ]
  },
  {
   "cell_type": "code",
   "execution_count": 10,
   "id": "beautiful-omaha",
   "metadata": {},
   "outputs": [
    {
     "data": {
      "text/plain": [
       "[<matplotlib.lines.Line2D at 0x15d81dc70>]"
      ]
     },
     "execution_count": 10,
     "metadata": {},
     "output_type": "execute_result"
    },
    {
     "data": {
      "image/png": "[encoded data removed]",
      "text/plain": [
       "<Figure size 432x288 with 1 Axes>"
      ]
     },
     "metadata": {
      "image/png": {
       "height": 248,
       "width": 372
      },
      "needs_background": "light"
     },
     "output_type": "display_data"
    }
   ],
   "source": [
    "# Vals that are summed\n",
    "plt.plot(xi, vals, marker='x')"
   ]
  },
  {
   "cell_type": "code",
   "execution_count": 11,
   "id": "angry-receptor",
   "metadata": {},
   "outputs": [
    {
     "name": "stderr",
     "output_type": "stream",
     "text": [
      "<ipython-input-2-0a1838f9092c>:3: RuntimeWarning: divide by zero encountered in true_divide\n",
      "  return 1/sqrt(1-x)\n"
     ]
    },
    {
     "data": {
      "text/plain": [
       "[<matplotlib.lines.Line2D at 0x15d915d30>]"
      ]
     },
     "execution_count": 11,
     "metadata": {},
     "output_type": "execute_result"
    },
    {
     "data": {
      "image/png": "[encoded data removed]",
      "text/plain": [
       "<Figure size 432x288 with 1 Axes>"
      ]
     },
     "metadata": {
      "image/png": {
       "height": 262,
       "width": 379
      },
      "needs_background": "light"
     },
     "output_type": "display_data"
    }
   ],
   "source": [
    "def optimal_xi_wi2(n):\n",
    "    \"\"\"\n",
    "    Alternate positive and negative terms\n",
    "    \"\"\"\n",
    "    klist = [0]\n",
    "    for k in range(1, n):\n",
    "        klist.append(k)\n",
    "        klist.append(-k)\n",
    "    klist = np.array(klist)\n",
    "    xi = xk(klist)\n",
    "    wi = wk(klist)\n",
    "    \n",
    "    return xi, wi\n",
    "xi, wi = optimal_xi_wi2(20)\n",
    "\n",
    "\n",
    "# Error, until nans are hit:\n",
    "res = np.cumsum(f(xi)*wi)\n",
    "res = np.nan_to_num(res, posinf=0, neginf=0)\n",
    "err = abs(res-exact)/exact\n",
    "plt.yscale('log')\n",
    "plt.xlabel('k_max terms included')\n",
    "plt.plot(err)\n"
   ]
  },
  {
   "cell_type": "markdown",
   "id": "primary-tooth",
   "metadata": {},
   "source": [
    "# psi_x\n",
    "\n",
    "Test the method on psi_x"
   ]
  },
  {
   "cell_type": "code",
   "execution_count": 12,
   "id": "waiting-compression",
   "metadata": {},
   "outputs": [],
   "source": [
    "import sys\n",
    "sys.path.append('../')\n",
    "sys.path.append('../../CSR2D/')\n",
    "\n",
    "import csr3d.core \n",
    "import csr2d.core \n",
    "import csr2d.core_mpmath"
   ]
  },
  {
   "cell_type": "code",
   "execution_count": 13,
   "id": "ordinary-sport",
   "metadata": {},
   "outputs": [
    {
     "data": {
      "text/plain": [
       "[<matplotlib.lines.Line2D at 0x1647b3cd0>]"
      ]
     },
     "execution_count": 13,
     "metadata": {},
     "output_type": "execute_result"
    },
    {
     "data": {
      "image/png": "[encoded data removed]",
      "text/plain": [
       "<Figure size 432x288 with 1 Axes>"
      ]
     },
     "metadata": {
      "image/png": {
       "height": 258,
       "width": 391
      },
      "needs_background": "light"
     },
     "output_type": "display_data"
    }
   ],
   "source": [
    "gamma = 500\n",
    "beta = np.sqrt(1-1/gamma**2)\n",
    "dx = 0.001/gamma**2\n",
    "\n",
    "z0 = .01/gamma**2\n",
    "y0 = 1/gamma**2\n",
    "\n",
    "def g(x):\n",
    "    \"\"\"\n",
    "    Standard domain: -1,1\n",
    "    \"\"\"\n",
    "    \n",
    "#    return (dx/2)*csr3d.core.psi_x(dx/2 + dx/2*x, y0, z0, beta)\n",
    "    return (dx/2)*csr2d.core.psi_x(z0, dx/2 + dx/2*x, beta)\n",
    "\n",
    "xtry = np.linspace(-.9999,1,100)\n",
    "\n",
    "plt.plot(xtry, -g(xtry))"
   ]
  },
  {
   "cell_type": "code",
   "execution_count": 14,
   "id": "weird-decline",
   "metadata": {},
   "outputs": [
    {
     "data": {
      "text/plain": [
       "-7.033261413510314e-09"
      ]
     },
     "execution_count": 14,
     "metadata": {},
     "output_type": "execute_result"
    }
   ],
   "source": [
    "xi, wi= optimal_xi_wi(4)\n",
    "\n",
    "vals = g(xi)*wi\n",
    "sol = np.sum(vals)\n",
    "sol"
   ]
  },
  {
   "cell_type": "code",
   "execution_count": 15,
   "id": "vocational-syntax",
   "metadata": {},
   "outputs": [
    {
     "data": {
      "text/plain": [
       "[<matplotlib.lines.Line2D at 0x164703700>]"
      ]
     },
     "execution_count": 15,
     "metadata": {},
     "output_type": "execute_result"
    },
    {
     "data": {
      "image/png": "[encoded data removed]",
      "text/plain": [
       "<Figure size 432x288 with 1 Axes>"
      ]
     },
     "metadata": {
      "image/png": {
       "height": 258,
       "width": 380
      },
      "needs_background": "light"
     },
     "output_type": "display_data"
    }
   ],
   "source": [
    "# Vals that are summed\n",
    "plt.plot(vals)"
   ]
  },
  {
   "cell_type": "code",
   "execution_count": 16,
   "id": "desirable-entity",
   "metadata": {},
   "outputs": [],
   "source": [
    "import mpmath"
   ]
  },
  {
   "cell_type": "code",
   "execution_count": 17,
   "id": "legal-berlin",
   "metadata": {},
   "outputs": [
    {
     "data": {
      "text/plain": [
       "mpf('-7.0880896857264327e-9')"
      ]
     },
     "execution_count": 17,
     "metadata": {},
     "output_type": "execute_result"
    }
   ],
   "source": [
    "f = lambda x: (dx/2)*csr2d.core_mpmath.psi_x(z0, dx/2 + dx/2*x, beta)\n",
    "# Integrate\n",
    "exact = mpmath.quad(f, [-1,1])\n",
    "exact"
   ]
  },
  {
   "cell_type": "code",
   "execution_count": 18,
   "id": "turkish-princess",
   "metadata": {},
   "outputs": [
    {
     "data": {
      "text/plain": [
       "mpf('-0.0077352678432565996')"
      ]
     },
     "execution_count": 18,
     "metadata": {},
     "output_type": "execute_result"
    }
   ],
   "source": [
    "# Error\n",
    "(sol-exact)/exact"
   ]
  },
  {
   "cell_type": "markdown",
   "id": "defensive-sharing",
   "metadata": {},
   "source": [
    "# Tests\n",
    "\n",
    "A nice practical discussion and some code from:\n",
    "\n",
    "https://www.hpmuseum.org/forum/thread-7690.html"
   ]
  },
  {
   "cell_type": "code",
   "execution_count": 19,
   "id": "brown-bishop",
   "metadata": {},
   "outputs": [
    {
     "name": "stdout",
     "output_type": "stream",
     "text": [
      "0 51 102 3 0.0030574631690979005 0.25 -6.938893903907228e-18 -2.775557561562891e-17\n",
      "1 51 102 3 0.0032960796356201172 0.210657251225807 -3.469446951953614e-18 -1.387778780781446e-17\n",
      "2 51 102 3 0.0033087587356567384 1.905238690482676 -2.775557561562891e-17 -1.387778780781446e-17\n",
      "3 51 102 3 0.004174036979675293 0.5140418958900707 -1.387778780781446e-17 -2.775557561562891e-17\n",
      "4 51 102 3 0.00284121036529541 -0.4444444444444444 0.0 0.0\n",
      "5 51 102 3 0.002596011161804199 0.7853981633974483 -2.775557561562891e-17 -4.163336342344337e-17\n",
      "6 51 102 3 0.0034032511711120607 1.198140228337044 -6.398548330066589e-9 -5.340400177633597e-9\n",
      "7 51 102 3 0.00309643030166626 1.999999999999978 -2.234323837058128e-14 -1.117161918529064e-14\n",
      "8 51 102 3 0.0037449693679809572 -1.0887930451518 1.110223024625157e-15 -1.013078509970455e-15\n",
      "9 51 102 3 0.0037032508850097655 2.221441457294505 -1.178467817775086e-8 -5.304969019626071e-9\n",
      "10 51 102 3 0.0029120469093322754 1.999999990953314 -9.046686344493793e-9 -4.523343172246896e-9\n"
     ]
    }
   ],
   "source": [
    "#!/usr/bin/python\n",
    "# -*- coding: utf-8 -*-\n",
    "from mpmath import *\n",
    "import time\n",
    "\n",
    "# number of digits\n",
    "\n",
    "mp.dps = 16\n",
    "\n",
    "# repeat this # of times (to get better time estimations)\n",
    "\n",
    "nloops = 100\n",
    "\n",
    "# test equations\n",
    "# equation =  0 => x*log(1 + x); 0; 1; 1/4\n",
    "#             1 => x**2*atan(x); 0; 1; (pi - 2 + 2ln2)/12\n",
    "#             2 => exp(x)cos(x); 0; pi/2; (exp(pi/2) - 1)/2\n",
    "#             3 => atan(sqrt(2 + x**2))/(1 + x**2)/sqrt(2 + x**2); 0; 1; 5pi**2/96\n",
    "#             4 => sqrt(x)ln(x); 0; 1; -4/9\n",
    "#             5 => sqrt(1 - x**2); 0; 1; pi/4\n",
    "#             6 => sqrt(x)/sqrt(1 - x**2); 0; 1; 2sqrt(pi)Gamma(3/4)/Gamma(1/4)\n",
    "#             7 => ln(x)**2; 0; 1; 2\n",
    "#             8 => ln(cos(x)); 0; pi/2; -pi*ln(2)/2\n",
    "#             9 => sqrt(tan(x)); 0; pi/2; pi*sqrt(2)/2\n",
    "\n",
    "print\n",
    "\n",
    "# try all equations\n",
    "\n",
    "for equation in range(11):\n",
    "    if equation == 0:\n",
    "\n",
    "    # limits\n",
    "\n",
    "        a = mpf('0')\n",
    "        b = mpf('1')\n",
    "\n",
    "\n",
    "    # function\n",
    "\n",
    "        def f(x):\n",
    "            return x * ln(1 + x)\n",
    "\n",
    "\n",
    "    # expected result (not used during computation)\n",
    "\n",
    "        s = mpf('1/4')\n",
    "    if equation == 1:\n",
    "        a = mpf('0')\n",
    "        b = mpf('1')\n",
    "\n",
    "\n",
    "        def f(x):\n",
    "            return x ** 2 * atan(x)\n",
    "\n",
    "\n",
    "        s = (pi() - 2 + 2 * ln(mpf('2'))) / 12\n",
    "    if equation == 2:\n",
    "        a = mpf('0')\n",
    "        b = pi() / 2\n",
    "\n",
    "\n",
    "        def f(x):\n",
    "            return cos(x) * exp(x)\n",
    "\n",
    "\n",
    "        s = (exp(pi() / 2) - 1) / 2\n",
    "    if equation == 3:\n",
    "        a = mpf('0')\n",
    "        b = mpf('1')\n",
    "\n",
    "\n",
    "        def f(x):\n",
    "            return atan(sqrt(2 + x ** 2)) / (1 + x ** 2) / sqrt(2 + x\n",
    "                    ** 2)\n",
    "\n",
    "\n",
    "        s = 5 * pi() ** 2 / 96\n",
    "    if equation == 4:\n",
    "        a = mpf('0')\n",
    "        b = mpf('1')\n",
    "\n",
    "\n",
    "        def f(x):\n",
    "            return sqrt(x) * ln(x)\n",
    "\n",
    "\n",
    "        s = mpf('-4/9')\n",
    "    if equation == 5:\n",
    "        a = mpf('0')\n",
    "        b = mpf('1')\n",
    "\n",
    "\n",
    "        def f(x):\n",
    "            return sqrt(1 - x ** 2)\n",
    "\n",
    "\n",
    "        s = pi() / 4\n",
    "    if equation == 6:\n",
    "        a = mpf('0')\n",
    "        b = mpf('1')\n",
    "\n",
    "\n",
    "        def f(x):\n",
    "            return sqrt(x) / sqrt(1 - x ** 2)\n",
    "\n",
    "\n",
    "        s = 2 * sqrt(pi()) * gamma(mpf('3/4')) / gamma(mpf('1/4'))\n",
    "    if equation == 7:\n",
    "        a = mpf('0')\n",
    "        b = mpf('1')\n",
    "\n",
    "\n",
    "        def f(x):\n",
    "            return ln(x) ** 2\n",
    "\n",
    "\n",
    "        s = mpf('2')\n",
    "    if equation == 8:\n",
    "        a = mpf('0')\n",
    "        b = pi() / 2\n",
    "\n",
    "\n",
    "        def f(x):\n",
    "            return ln(cos(x))\n",
    "\n",
    "\n",
    "        s = -pi() * ln(mpf('2')) / 2\n",
    "    if equation == 9:\n",
    "        a = mpf('0')\n",
    "        b = pi() / 2\n",
    "\n",
    "\n",
    "        def f(x):\n",
    "            return sqrt(tan(x))\n",
    "\n",
    "\n",
    "        s = pi() * sqrt(mpf('2')) / 2\n",
    "        \n",
    "    if equation == 10:\n",
    "        a = mpf('0')\n",
    "        b = mpf('1')\n",
    "\n",
    "\n",
    "        def f(x):\n",
    "            return 1/sqrt(x)\n",
    "\n",
    "\n",
    "        s = 2 \n",
    "\n",
    "  # to measure algorithm execution time\n",
    "\n",
    "    tt0 = time.time()\n",
    "\n",
    "  # repeat nloops times to get better time estimations\n",
    "\n",
    "    for m in range(nloops):\n",
    "\n",
    "    # counters\n",
    "\n",
    "        tnfe = 0  # counts function evaluations\n",
    "        hyp = 0  # counts hyperbolics\n",
    "\n",
    "    # we need a < b\n",
    "\n",
    "        (a, b) = ((a, b) if b > a else (b, a))\n",
    "\n",
    "    # x = bpa2 + bma2*r\n",
    "\n",
    "        bpa2 = (b + a) / 2\n",
    "        bma2 = (b - a) / 2\n",
    "\n",
    "    # epsilon\n",
    "\n",
    "        eps = mpf('10') ** -mp.dps\n",
    "\n",
    "    # convergence threshold\n",
    "\n",
    "        thr = mpf('10') ** (-mp.dps / 2)\n",
    "\n",
    "        pi2 = pi() / 2\n",
    "\n",
    "    # (approx) maximum t that yields\n",
    "    # the maximum representable r & x\n",
    "    # values strictly below the upper\n",
    "    # limits +1 (for r) and b (for x)\n",
    "\n",
    "        tm = asinh(ln(2 * min(1, bma2) / eps) / (2 * pi2))\n",
    "        hyp += 2\n",
    "\n",
    "    # level\n",
    "\n",
    "        k = 0\n",
    "\n",
    "    # maximum allowed level\n",
    "\n",
    "        maxlevel = int(ceil(log(mp.dps, 2))) + 2\n",
    "\n",
    "    # ss is the final result\n",
    "    # 1st addend at order 0\n",
    "\n",
    "        ss = f(bpa2)\n",
    "        tnfe += 1\n",
    "\n",
    "    # \"initial\" previous computed result, used\n",
    "    # in the convergence test\n",
    "\n",
    "        sshp = 2 * ss + 1\n",
    "\n",
    "    # progress thru levels\n",
    "\n",
    "        while k <= maxlevel:\n",
    "            h = mpf('2') ** -k\n",
    "            N = int(floor(tm / h))\n",
    "            j = 1\n",
    "            while j <= N:\n",
    "                t = j * h\n",
    "                csh = pi2 * sinh(t)\n",
    "                ch = cosh(t)\n",
    "                w = ch / cosh(csh) ** 2\n",
    "                r = tanh(csh)\n",
    "                hyp += 4\n",
    "                fp = f(bpa2 + bma2 * r)\n",
    "                fm = f(bpa2 - bma2 * r)\n",
    "                p = w * (fp + fm)\n",
    "                tnfe += 2\n",
    "                ss += p\n",
    "\n",
    "        # at level 0 must sweep all j values,\n",
    "        # at other levels only the odd ones\n",
    "\n",
    "                j += (2 if k > 0 else 1)\n",
    "\n",
    "      # converged?\n",
    "\n",
    "            if abs(2 * sshp / ss - 1) < thr:\n",
    "                break\n",
    "\n",
    "      # no, advance to next level\n",
    "\n",
    "            k += 1\n",
    "\n",
    "      # store the just computed approximation\n",
    "      # for the next convergence test\n",
    "\n",
    "            sshp = ss\n",
    "\n",
    "    # apply constant coefficients\n",
    "\n",
    "        ss *= bma2 * pi2 * h\n",
    "\n",
    "    # done, measure time\n",
    "\n",
    "        tt1 = time.time()\n",
    "\n",
    "  # print results\n",
    "\n",
    "    print(equation, tnfe, hyp, k, (tt1 - tt0) / nloops, ss, ss - s, ss / s - 1)\n"
   ]
  }
 ],
 "metadata": {
  "kernelspec": {
   "display_name": "Python 3",
   "language": "python",
   "name": "python3"
  },
  "language_info": {
   "codemirror_mode": {
    "name": "ipython",
    "version": 3
   },
   "file_extension": ".py",
   "mimetype": "text/x-python",
   "name": "python",
   "nbconvert_exporter": "python",
   "pygments_lexer": "ipython3",
   "version": "3.9.2"
  }
 },
 "nbformat": 4,
 "nbformat_minor": 5
}
